{
 "cells": [
  {
   "cell_type": "code",
   "execution_count": 11,
   "id": "f75493e1-ce9d-434a-9fba-e74d01def4db",
   "metadata": {},
   "outputs": [
    {
     "name": "stdin",
     "output_type": "stream",
     "text": [
      " Alex\n",
      "Enter your weight in pounds:  170\n",
      "Enter your height in inches:  69\n"
     ]
    },
    {
     "name": "stdout",
     "output_type": "stream",
     "text": [
      "25.101869355177485\n",
      "Alex you are overweight\n"
     ]
    }
   ],
   "source": [
    "name = input()\n",
    "weight = int(input(\"Enter your weight in pounds: \"))\n",
    "height = int(input(\"Enter your height in inches: \"))\n",
    "BMI = weight * 703 / (height * height)\n",
    "print(BMI)\n",
    "\n",
    "if BMI>0:\n",
    "    if (BMI<18.5):\n",
    "        print(name+ \" you are underweight\")\n",
    "    elif (BMI<24.9):\n",
    "        print(name+ \" you are normal weight\")\n",
    "    elif (BMI<29.9):\n",
    "        print(name+ \" you are overweight\")\n",
    "    elif (BMI<34.9):\n",
    "        print(name+ \" you are obese\")\n",
    "    elif (BMI<39.9):\n",
    "        print(name+ \" you are severly obese\")\n",
    "    else:\n",
    "        print(name+ \" you are morbidly obese\")\n",
    "else:\n",
    "    print(\"Enter valid input\")"
   ]
  },
  {
   "cell_type": "code",
   "execution_count": null,
   "id": "6e3e86f7-9302-403d-86a1-7f344cd3e83c",
   "metadata": {},
   "outputs": [],
   "source": []
  },
  {
   "cell_type": "code",
   "execution_count": null,
   "id": "88fde2ec-b901-4c4f-92e6-4ccf179884f6",
   "metadata": {},
   "outputs": [],
   "source": []
  },
  {
   "cell_type": "code",
   "execution_count": null,
   "id": "5c040979-5d22-4ad6-a074-82793b5d1ddf",
   "metadata": {},
   "outputs": [],
   "source": []
  },
  {
   "cell_type": "code",
   "execution_count": null,
   "id": "e613465c-4537-47ee-851d-4a3972c7c80e",
   "metadata": {},
   "outputs": [],
   "source": []
  },
  {
   "cell_type": "code",
   "execution_count": null,
   "id": "0942c0d9-592a-4a12-beda-fa9301212cb9",
   "metadata": {},
   "outputs": [],
   "source": []
  },
  {
   "cell_type": "code",
   "execution_count": null,
   "id": "7d7c732b-0829-475a-a2e9-8690b81d312d",
   "metadata": {},
   "outputs": [],
   "source": []
  },
  {
   "cell_type": "code",
   "execution_count": null,
   "id": "174bdcbe-a777-4182-bd2b-182a48b970f2",
   "metadata": {},
   "outputs": [],
   "source": []
  },
  {
   "cell_type": "code",
   "execution_count": null,
   "id": "3609364a-037e-44ad-8af0-0a5e9e993914",
   "metadata": {},
   "outputs": [],
   "source": []
  },
  {
   "cell_type": "code",
   "execution_count": null,
   "id": "225c6a22-e30b-4c5b-9f70-9a1ba9cb09b6",
   "metadata": {},
   "outputs": [],
   "source": []
  },
  {
   "cell_type": "code",
   "execution_count": null,
   "id": "659d2d60-4f3e-45c3-bfae-b7b2783b3007",
   "metadata": {},
   "outputs": [],
   "source": []
  }
 ],
 "metadata": {
  "kernelspec": {
   "display_name": "Python 3 (ipykernel)",
   "language": "python",
   "name": "python3"
  },
  "language_info": {
   "codemirror_mode": {
    "name": "ipython",
    "version": 3
   },
   "file_extension": ".py",
   "mimetype": "text/x-python",
   "name": "python",
   "nbconvert_exporter": "python",
   "pygments_lexer": "ipython3",
   "version": "3.12.4"
  }
 },
 "nbformat": 4,
 "nbformat_minor": 5
}
